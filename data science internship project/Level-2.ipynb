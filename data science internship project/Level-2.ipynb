{
 "cells": [
  {
   "cell_type": "markdown",
   "id": "22b1a79f-4f90-45b4-9974-100bcd3508dc",
   "metadata": {},
   "source": [
    "LEVEL - 2 :\n",
    "Task-1: Table Booking and Online Delivery\n",
    "\n",
    "***. Determine the percentage of restaurants that\n",
    "offer table booking and online delivery."
   ]
  },
  {
   "cell_type": "code",
   "execution_count": 26,
   "id": "e5d21f1f-9163-45b5-805d-94fe8bc5fcb9",
   "metadata": {},
   "outputs": [
    {
     "name": "stdout",
     "output_type": "stream",
     "text": [
      "Percentage of restaurants with table booking: 12.124384881164275%\n",
      "Percentage of restaurants with online delivery: 25.662234321013504%\n"
     ]
    }
   ],
   "source": [
    "import pandas as pd\n",
    "file_path = 'Dataset .csv'\n",
    "df = pd.read_csv(file_path)\n",
    "\n",
    "table_booking_percent = (df['Has Table booking'] == 'Yes').mean() * 100\n",
    "online_delivery_percent = (df['Has Online delivery'] == 'Yes').mean() * 100\n",
    "\n",
    "print(f\"Percentage of restaurants with table booking: {table_booking_percent}%\")\n",
    "print(f\"Percentage of restaurants with online delivery: {online_delivery_percent}%\")\n"
   ]
  },
  {
   "cell_type": "markdown",
   "id": "68676cc0-68f4-4be5-8542-adff21e6f702",
   "metadata": {},
   "source": [
    "***. Compare the average ratings of restaurants\n",
    "with table booking and those without."
   ]
  },
  {
   "cell_type": "code",
   "execution_count": 27,
   "id": "86a9b79c-dc9e-4691-8eea-57f82cf37aef",
   "metadata": {},
   "outputs": [
    {
     "name": "stdout",
     "output_type": "stream",
     "text": [
      "Average ratings for restaurants with/without table booking:\n",
      "Has Table booking\n",
      "No     2.559359\n",
      "Yes    3.441969\n",
      "Name: Aggregate rating, dtype: float64\n"
     ]
    }
   ],
   "source": [
    "avg_rating_table_booking = df.groupby('Has Table booking')['Aggregate rating'].mean()\n",
    "print(\"Average ratings for restaurants with/without table booking:\")\n",
    "print(avg_rating_table_booking)"
   ]
  },
  {
   "cell_type": "markdown",
   "id": "22e4cb89-c350-4942-888b-8ae978a14255",
   "metadata": {},
   "source": [
    "***. Analyze the availability of online delivery\n",
    "among restaurants with different price ranges."
   ]
  },
  {
   "cell_type": "code",
   "execution_count": 28,
   "id": "064626e4-7ca9-4655-bfed-39a57480f840",
   "metadata": {},
   "outputs": [
    {
     "name": "stdout",
     "output_type": "stream",
     "text": [
      "Online delivery availability by price range:\n",
      "Price range\n",
      "1    15.774077\n",
      "2    41.310633\n",
      "3    29.190341\n",
      "4     9.044369\n",
      "Name: Has Online delivery, dtype: float64\n"
     ]
    }
   ],
   "source": [
    "online_delivery_by_price = df.groupby('Price range')['Has Online delivery'].apply(lambda x: (x == 'Yes').mean() * 100)\n",
    "print(\"Online delivery availability by price range:\")\n",
    "print(online_delivery_by_price)"
   ]
  },
  {
   "cell_type": "markdown",
   "id": "32be437f-5e42-49a9-b6b6-dd0a02129431",
   "metadata": {},
   "source": [
    "LEVEL-2\n",
    "Task-2: Price Range Analysis\n",
    "***. Determine the most common price range\n",
    "among all the restaurants."
   ]
  },
  {
   "cell_type": "code",
   "execution_count": 29,
   "id": "7de48aea-4eb4-4e61-b300-97db9552bf54",
   "metadata": {},
   "outputs": [
    {
     "name": "stdout",
     "output_type": "stream",
     "text": [
      "Most common price range: 1\n"
     ]
    }
   ],
   "source": [
    "most_common_price_range = df['Price range'].mode()[0]\n",
    "print(f\"Most common price range: {most_common_price_range}\")"
   ]
  },
  {
   "cell_type": "markdown",
   "id": "1601c009-50e7-42d6-8371-7dbd5db330ac",
   "metadata": {},
   "source": [
    "***. \n",
    "Calculate the average rating for each price\n",
    "range."
   ]
  },
  {
   "cell_type": "code",
   "execution_count": 30,
   "id": "78c14829-71c9-42da-b2b9-3fbfb83e51d1",
   "metadata": {},
   "outputs": [
    {
     "name": "stdout",
     "output_type": "stream",
     "text": [
      "Average rating for each price range:\n",
      "Price range\n",
      "1    1.999887\n",
      "2    2.941054\n",
      "3    3.683381\n",
      "4    3.817918\n",
      "Name: Aggregate rating, dtype: float64\n"
     ]
    }
   ],
   "source": [
    "avg_rating_by_price_range = df.groupby('Price range')['Aggregate rating'].mean()\n",
    "print(\"Average rating for each price range:\")\n",
    "print(avg_rating_by_price_range)"
   ]
  },
  {
   "cell_type": "markdown",
   "id": "d2c8b5d0-06f9-44d0-bc0c-c33dee8fd2a8",
   "metadata": {},
   "source": [
    "***. Identify the color that represents the highest\n",
    "average rating among different price ranges."
   ]
  },
  {
   "cell_type": "code",
   "execution_count": 31,
   "id": "fc0af016-1285-4fc7-b17a-1bd63927428a",
   "metadata": {},
   "outputs": [
    {
     "name": "stdout",
     "output_type": "stream",
     "text": [
      "Color representing the highest average rating among different price ranges:\n",
      "175    Dark Green\n",
      "235    Dark Green\n",
      "10     Dark Green\n",
      "3      Dark Green\n",
      "Name: Rating color, dtype: object\n"
     ]
    }
   ],
   "source": [
    "highest_avg_rating_color = df.loc[df.groupby('Price range')['Aggregate rating'].idxmax()]['Rating color']\n",
    "print(\"Color representing the highest average rating among different price ranges:\")\n",
    "print(highest_avg_rating_color)"
   ]
  },
  {
   "cell_type": "markdown",
   "id": "ab9575a2-40f7-4b8c-b3bb-a8f1c5f37095",
   "metadata": {},
   "source": [
    "LEVEL-2\n",
    "Task-3: Feature Engineering\n",
    "***. \n",
    "Extract additional features from the existing\n",
    "columns, such as the length of the restaurant\n",
    "name or address."
   ]
  },
  {
   "cell_type": "code",
   "execution_count": 32,
   "id": "7dee5cc3-db69-4cd7-adcc-333ec9ce49f6",
   "metadata": {},
   "outputs": [
    {
     "name": "stdout",
     "output_type": "stream",
     "text": [
      "New features added:\n"
     ]
    }
   ],
   "source": [
    "df['Restaurant Name Length'] = df['Restaurant Name'].apply(len)\n",
    "df['Address Length'] = df['Address'].apply(len)\n",
    "print(\"New features added:\")\n"
   ]
  },
  {
   "cell_type": "markdown",
   "id": "cd6b4380-376f-494f-ab80-c840d559d8b2",
   "metadata": {},
   "source": [
    "***. Create new features like \"Has Table Booking\"\n",
    "or \"Has Online Delivery\" by encoding\n",
    "categorical variables."
   ]
  },
  {
   "cell_type": "code",
   "execution_count": 33,
   "id": "cd26e7f6-abd5-4bb4-b4e7-3d5d471c64f3",
   "metadata": {},
   "outputs": [
    {
     "name": "stdout",
     "output_type": "stream",
     "text": [
      "New features added:\n",
      "   Restaurant Name Length  Address Length  Has Table Booking  \\\n",
      "0                      16              71                  1   \n",
      "1                      16              67                  1   \n",
      "2                      22              56                  1   \n",
      "3                       4              70                  0   \n",
      "4                      11              64                  1   \n",
      "\n",
      "   Has Online Delivery  \n",
      "0                    0  \n",
      "1                    0  \n",
      "2                    0  \n",
      "3                    0  \n",
      "4                    0  \n"
     ]
    }
   ],
   "source": [
    "df['Has Table Booking'] = df['Has Table booking'].apply(lambda x: 1 if x == 'Yes' else 0)\n",
    "df['Has Online Delivery'] = df['Has Online delivery'].apply(lambda x: 1 if x == 'Yes' else 0)\n",
    "\n",
    "print(\"New features added:\")\n",
    "print(df[['Restaurant Name Length', 'Address Length', 'Has Table Booking', 'Has Online Delivery']].head())"
   ]
  }
 ],
 "metadata": {
  "kernelspec": {
   "display_name": "Python 3 (ipykernel)",
   "language": "python",
   "name": "python3"
  },
  "language_info": {
   "codemirror_mode": {
    "name": "ipython",
    "version": 3
   },
   "file_extension": ".py",
   "mimetype": "text/x-python",
   "name": "python",
   "nbconvert_exporter": "python",
   "pygments_lexer": "ipython3",
   "version": "3.12.2"
  }
 },
 "nbformat": 4,
 "nbformat_minor": 5
}
