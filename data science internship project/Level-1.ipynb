{
 "cells": [
  {
   "cell_type": "markdown",
   "id": "39e97292-666f-4b85-9d7c-4fb353583f08",
   "metadata": {},
   "source": [
    "LEVEL-1 :\n",
    "Task-1: Data Exploration and Preprocessing\n",
    "***. Explore the dataset and identify the number\n",
    "of rows and columns."
   ]
  },
  {
   "cell_type": "code",
   "execution_count": 19,
   "id": "552ef062-548d-4d41-943b-51a5a34533af",
   "metadata": {},
   "outputs": [
    {
     "name": "stdout",
     "output_type": "stream",
     "text": [
      "Number of rows: 9551\n",
      "Number of columns: 21\n"
     ]
    }
   ],
   "source": [
    "import pandas as pd\n",
    "\n",
    "file_path = 'Dataset .csv'\n",
    "df = pd.read_csv(file_path)\n",
    "\n",
    "rows, cols = df.shape\n",
    "print(f\"Number of rows: {rows}\")\n",
    "print(f\"Number of columns: {cols}\")"
   ]
  },
  {
   "cell_type": "markdown",
   "id": "dafe44b1-5462-48ee-8690-37023e1706db",
   "metadata": {},
   "source": [
    "***. Check for missing values in each column and\n",
    "handle them accordingly."
   ]
  },
  {
   "cell_type": "code",
   "execution_count": 20,
   "id": "b22436df-2696-4690-9fe2-151ee8defd69",
   "metadata": {},
   "outputs": [
    {
     "name": "stdout",
     "output_type": "stream",
     "text": [
      "Missing values in each column:\n",
      "Restaurant ID           0\n",
      "Restaurant Name         0\n",
      "Country Code            0\n",
      "City                    0\n",
      "Address                 0\n",
      "Locality                0\n",
      "Locality Verbose        0\n",
      "Longitude               0\n",
      "Latitude                0\n",
      "Cuisines                9\n",
      "Average Cost for two    0\n",
      "Currency                0\n",
      "Has Table booking       0\n",
      "Has Online delivery     0\n",
      "Is delivering now       0\n",
      "Switch to order menu    0\n",
      "Price range             0\n",
      "Aggregate rating        0\n",
      "Rating color            0\n",
      "Rating text             0\n",
      "Votes                   0\n",
      "dtype: int64\n"
     ]
    }
   ],
   "source": [
    "import seaborn as sns\n",
    "\n",
    "missing_values = df.isnull().sum()\n",
    "print(\"Missing values in each column:\")\n",
    "print(missing_values)\n",
    "\n",
    "numeric_columns = df.select_dtypes(include='number').columns\n",
    "df[numeric_columns] = df[numeric_columns].fillna(df[numeric_columns].median())\n",
    "\n",
    "# Example: Convert 'Aggregate rating' to numeric (if it's not already)\n",
    "df['Aggregate rating'] = pd.to_numeric(df['Aggregate rating'], errors='coerce')"
   ]
  },
  {
   "cell_type": "markdown",
   "id": "acb41396-a46b-4539-a322-0e46ed07134d",
   "metadata": {},
   "source": [
    "***. Perform data type conversion if necessary.\n",
    "Analyze the distribution of the target variable\n",
    "(\"Aggregate rating\") and identify any class\n",
    "imbalances."
   ]
  },
  {
   "cell_type": "code",
   "execution_count": 21,
   "id": "a76047cc-0bd2-45ca-b07e-0aaf4d824ad5",
   "metadata": {},
   "outputs": [
    {
     "data": {
      "image/png": "[encoded data removed]",
      "text/plain": [
       "<Figure size 640x480 with 1 Axes>"
      ]
     },
     "metadata": {},
     "output_type": "display_data"
    },
    {
     "name": "stdout",
     "output_type": "stream",
     "text": [
      "Class distribution in 'Aggregate rating':\n",
      "Aggregate rating\n",
      "0.0    2148\n",
      "3.2     522\n",
      "3.1     519\n",
      "3.4     498\n",
      "3.3     483\n",
      "3.5     480\n",
      "3.0     468\n",
      "3.6     458\n",
      "3.7     427\n",
      "3.8     400\n",
      "2.9     381\n",
      "3.9     335\n",
      "2.8     315\n",
      "4.1     274\n",
      "4.0     266\n",
      "2.7     250\n",
      "4.2     221\n",
      "2.6     191\n",
      "4.3     174\n",
      "4.4     144\n",
      "2.5     110\n",
      "4.5      95\n",
      "2.4      87\n",
      "4.6      78\n",
      "4.9      61\n",
      "2.3      47\n",
      "4.7      42\n",
      "2.2      27\n",
      "4.8      25\n",
      "2.1      15\n",
      "2.0       7\n",
      "1.9       2\n",
      "1.8       1\n",
      "Name: count, dtype: int64\n"
     ]
    }
   ],
   "source": [
    "\n",
    "import matplotlib.pyplot as plt\n",
    "\n",
    "sns.histplot(df['Aggregate rating'], kde=True)\n",
    "plt.title('Distribution of Aggregate Rating')\n",
    "plt.show()\n",
    "\n",
    "rating_counts = df['Aggregate rating'].value_counts()\n",
    "print(\"Class distribution in 'Aggregate rating':\")\n",
    "print(rating_counts)"
   ]
  },
  {
   "cell_type": "markdown",
   "id": "b188ec78-290f-4efa-9b1d-441bc365547d",
   "metadata": {},
   "source": [
    "LEVEL-1 :\n",
    "Task-2 : Descriptive Analysis\n",
    "***. Calculate basic statistical measures (mean,\n",
    "median, standard deviation, etc.) for numerical\n",
    "columns."
   ]
  },
  {
   "cell_type": "code",
   "execution_count": 22,
   "id": "bf92f50c-c6ed-49a4-b0e8-4b381b5530a6",
   "metadata": {},
   "outputs": [
    {
     "name": "stdout",
     "output_type": "stream",
     "text": [
      "Basic statistical measures:\n",
      "       Restaurant ID  Country Code    Longitude     Latitude  \\\n",
      "count   9.551000e+03   9551.000000  9551.000000  9551.000000   \n",
      "mean    9.051128e+06     18.365616    64.126574    25.854381   \n",
      "std     8.791521e+06     56.750546    41.467058    11.007935   \n",
      "min     5.300000e+01      1.000000  -157.948486   -41.330428   \n",
      "25%     3.019625e+05      1.000000    77.081343    28.478713   \n",
      "50%     6.004089e+06      1.000000    77.191964    28.570469   \n",
      "75%     1.835229e+07      1.000000    77.282006    28.642758   \n",
      "max     1.850065e+07    216.000000   174.832089    55.976980   \n",
      "\n",
      "       Average Cost for two  Price range  Aggregate rating         Votes  \n",
      "count           9551.000000  9551.000000       9551.000000   9551.000000  \n",
      "mean            1199.210763     1.804837          2.666370    156.909748  \n",
      "std            16121.183073     0.905609          1.516378    430.169145  \n",
      "min                0.000000     1.000000          0.000000      0.000000  \n",
      "25%              250.000000     1.000000          2.500000      5.000000  \n",
      "50%              400.000000     2.000000          3.200000     31.000000  \n",
      "75%              700.000000     2.000000          3.700000    131.000000  \n",
      "max           800000.000000     4.000000          4.900000  10934.000000  \n"
     ]
    }
   ],
   "source": [
    "statistics = df.describe()\n",
    "print(\"Basic statistical measures:\")\n",
    "print(statistics)"
   ]
  },
  {
   "cell_type": "markdown",
   "id": "99dc0293-f6f2-4b85-8b8b-ab972f4c1bc6",
   "metadata": {},
   "source": [
    "***. Explore the distribution of categorical variables like \"Country Code,\" \"City,\" and \"Cuisines.\""
   ]
  },
  {
   "cell_type": "code",
   "execution_count": 23,
   "id": "d527b107-6523-4bf6-b2bb-03237dc211f4",
   "metadata": {},
   "outputs": [
    {
     "name": "stdout",
     "output_type": "stream",
     "text": [
      "Distribution of Country Code:\n",
      "Country Code\n",
      "1      8652\n",
      "216     434\n",
      "215      80\n",
      "30       60\n",
      "214      60\n",
      "189      60\n",
      "148      40\n",
      "208      34\n",
      "14       24\n",
      "162      22\n",
      "94       21\n",
      "184      20\n",
      "166      20\n",
      "191      20\n",
      "37        4\n",
      "Name: count, dtype: int64\n",
      "Distribution of City:\n",
      "City\n",
      "New Delhi           5473\n",
      "Gurgaon             1118\n",
      "Noida               1080\n",
      "Faridabad            251\n",
      "Ghaziabad             25\n",
      "                    ... \n",
      "Panchkula              1\n",
      "Mc Millan              1\n",
      "Mayfield               1\n",
      "Macedon                1\n",
      "Vineland Station       1\n",
      "Name: count, Length: 141, dtype: int64\n",
      "Distribution of Cuisines:\n",
      "Cuisines\n",
      "North Indian                                             936\n",
      "North Indian, Chinese                                    511\n",
      "Chinese                                                  354\n",
      "Fast Food                                                354\n",
      "North Indian, Mughlai                                    334\n",
      "                                                        ... \n",
      "Bengali, Fast Food                                         1\n",
      "North Indian, Rajasthani, Asian                            1\n",
      "Chinese, Thai, Malaysian, Indonesian                       1\n",
      "Bakery, Desserts, North Indian, Bengali, South Indian      1\n",
      "Italian, World Cuisine                                     1\n",
      "Name: count, Length: 1825, dtype: int64\n"
     ]
    }
   ],
   "source": [
    "categorical_columns = ['Country Code', 'City', 'Cuisines']\n",
    "for col in categorical_columns:\n",
    "    print(f\"Distribution of {col}:\")\n",
    "    print(df[col].value_counts())"
   ]
  },
  {
   "cell_type": "markdown",
   "id": "826ad3b5-c58c-4a81-8e05-da5782f4df5c",
   "metadata": {},
   "source": [
    "***. Identify the top cuisines and cities with the highest number of restaurants.\n"
   ]
  },
  {
   "cell_type": "code",
   "execution_count": 24,
   "id": "c4862fd8-986c-4f26-9bb8-13dcd159f7c9",
   "metadata": {},
   "outputs": [
    {
     "name": "stdout",
     "output_type": "stream",
     "text": [
      "Top 10 Cuisines:\n",
      "Cuisines\n",
      "North Indian                      936\n",
      "North Indian, Chinese             511\n",
      "Chinese                           354\n",
      "Fast Food                         354\n",
      "North Indian, Mughlai             334\n",
      "Cafe                              299\n",
      "Bakery                            218\n",
      "North Indian, Mughlai, Chinese    197\n",
      "Bakery, Desserts                  170\n",
      "Street Food                       149\n",
      "Name: count, dtype: int64\n",
      "Top 10 Cities:\n",
      "City\n",
      "New Delhi       5473\n",
      "Gurgaon         1118\n",
      "Noida           1080\n",
      "Faridabad        251\n",
      "Ghaziabad         25\n",
      "Bhubaneshwar      21\n",
      "Amritsar          21\n",
      "Ahmedabad         21\n",
      "Lucknow           21\n",
      "Guwahati          21\n",
      "Name: count, dtype: int64\n"
     ]
    }
   ],
   "source": [
    "top_cuisines = df['Cuisines'].value_counts().head(10)\n",
    "print(\"Top 10 Cuisines:\")\n",
    "print(top_cuisines)\n",
    "\n",
    "top_cities = df['City'].value_counts().head(10)\n",
    "print(\"Top 10 Cities:\")\n",
    "print(top_cities)"
   ]
  },
  {
   "cell_type": "markdown",
   "id": "4d78ac4d-baae-451d-b9a3-8d45fc91ac1f",
   "metadata": {},
   "source": [
    "LEVE-1 :\n",
    "Task-3: Geospatial Analysis\n",
    "\n",
    "***. Visualize the locations of restaurants on a\n",
    "map using latitude and longitude\n",
    "information."
   ]
  },
  {
   "cell_type": "code",
   "execution_count": 25,
   "id": "9136d6ae-8eb4-4d29-9bc3-00b37bd12524",
   "metadata": {},
   "outputs": [],
   "source": [
    "import folium\n",
    "\n",
    "map_center = [df['Latitude'].mean(), df['Longitude'].mean()]\n",
    "restaurant_map = folium.Map(location=map_center, zoom_start=12)\n",
    "\n",
    "for _, row in df.iterrows():\n",
    "    folium.Marker([row['Latitude'], row['Longitude']], popup=row['Restaurant Name']).add_to(restaurant_map)\n",
    "\n",
    "restaurant_map.save(\"restaurant_map.html\")"
   ]
  },
  {
   "cell_type": "markdown",
   "id": "fdcfb35a-5f95-48a4-936a-06678f2bdb24",
   "metadata": {},
   "source": [
    "***. Analyze the distribution of restaurants\n",
    "across different cities or countries."
   ]
  },
  {
   "cell_type": "code",
   "execution_count": 26,
   "id": "75fdd48d-e50c-4405-8a07-0b0e583e9f1a",
   "metadata": {},
   "outputs": [
    {
     "name": "stdout",
     "output_type": "stream",
     "text": [
      "Distribution of restaurants across cities:\n",
      "City\n",
      "New Delhi           5473\n",
      "Gurgaon             1118\n",
      "Noida               1080\n",
      "Faridabad            251\n",
      "Ghaziabad             25\n",
      "                    ... \n",
      "Panchkula              1\n",
      "Mc Millan              1\n",
      "Mayfield               1\n",
      "Macedon                1\n",
      "Vineland Station       1\n",
      "Name: count, Length: 141, dtype: int64\n",
      "Distribution of restaurants across countries:\n",
      "Country Code\n",
      "1      8652\n",
      "216     434\n",
      "215      80\n",
      "30       60\n",
      "214      60\n",
      "189      60\n",
      "148      40\n",
      "208      34\n",
      "14       24\n",
      "162      22\n",
      "94       21\n",
      "184      20\n",
      "166      20\n",
      "191      20\n",
      "37        4\n",
      "Name: count, dtype: int64\n"
     ]
    }
   ],
   "source": [
    "\n",
    "city_distribution = df['City'].value_counts()\n",
    "country_distribution = df['Country Code'].value_counts()\n",
    "\n",
    "print(\"Distribution of restaurants across cities:\")\n",
    "print(city_distribution)\n",
    "\n",
    "print(\"Distribution of restaurants across countries:\")\n",
    "print(country_distribution)"
   ]
  },
  {
   "cell_type": "markdown",
   "id": "dea2860a-109c-4c02-90b4-b44f32f50ba1",
   "metadata": {},
   "source": [
    "***. Determine if there is any correlation\n",
    "between the restaurant's location and its\n",
    "rating."
   ]
  },
  {
   "cell_type": "code",
   "execution_count": 28,
   "id": "7f0e0de8-9f65-4ebd-bfec-434b0dcd8411",
   "metadata": {},
   "outputs": [
    {
     "name": "stdout",
     "output_type": "stream",
     "text": [
      "Correlation between location and rating:\n",
      "                  Latitude  Longitude  Aggregate rating\n",
      "Latitude          1.000000   0.043207          0.000516\n",
      "Longitude         0.043207   1.000000         -0.116818\n",
      "Aggregate rating  0.000516  -0.116818          1.000000\n"
     ]
    }
   ],
   "source": [
    "location_rating_corr = df[['Latitude', 'Longitude', 'Aggregate rating']].corr()\n",
    "print(\"Correlation between location and rating:\")\n",
    "print(location_rating_corr)"
   ]
  }
 ],
 "metadata": {
  "kernelspec": {
   "display_name": "Python 3 (ipykernel)",
   "language": "python",
   "name": "python3"
  },
  "language_info": {
   "codemirror_mode": {
    "name": "ipython",
    "version": 3
   },
   "file_extension": ".py",
   "mimetype": "text/x-python",
   "name": "python",
   "nbconvert_exporter": "python",
   "pygments_lexer": "ipython3",
   "version": "3.12.2"
  }
 },
 "nbformat": 4,
 "nbformat_minor": 5
}
